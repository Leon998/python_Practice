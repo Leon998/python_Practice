{
 "cells": [
  {
   "cell_type": "code",
   "execution_count": 35,
   "metadata": {
    "collapsed": true
   },
   "outputs": [],
   "source": [
    "class Tree:\n",
    "    def __init__(self,variety,age,height):\n",
    "        self.variety = variety\n",
    "        self.age = age\n",
    "        self.height = height\n",
    "    def display(self):\n",
    "        print('Name:', self.variety, 'Age:', self.age)\n",
    "    pass\n"
   ]
  },
  {
   "cell_type": "code",
   "execution_count": 42,
   "outputs": [],
   "source": [
    "class Bamboo(Tree):\n",
    "    def __init__(self,variety,age,height,usage):\n",
    "        super().__init__(variety, age, height)\n",
    "        self.usage = usage\n",
    "    def display(self):\n",
    "        super().display()\n",
    "        print('Usage:', self.usage)\n",
    "    pass"
   ],
   "metadata": {
    "collapsed": false,
    "pycharm": {
     "name": "#%%\n"
    }
   }
  },
  {
   "cell_type": "code",
   "execution_count": 43,
   "outputs": [],
   "source": [
    "b = Bamboo('green', 2, 10.0, 'chopstick')"
   ],
   "metadata": {
    "collapsed": false,
    "pycharm": {
     "name": "#%%\n"
    }
   }
  },
  {
   "cell_type": "code",
   "execution_count": 44,
   "outputs": [
    {
     "name": "stdout",
     "output_type": "stream",
     "text": [
      "green 2 10.0 chopstick\n",
      "Name: green Age: 2\n",
      "Usage: chopstick\n"
     ]
    }
   ],
   "source": [
    "print(b.variety,b.age, b.height, b.usage)\n",
    "b.display()"
   ],
   "metadata": {
    "collapsed": false,
    "pycharm": {
     "name": "#%%\n"
    }
   }
  },
  {
   "cell_type": "code",
   "execution_count": 38,
   "outputs": [],
   "source": [],
   "metadata": {
    "collapsed": false,
    "pycharm": {
     "name": "#%%\n"
    }
   }
  }
 ],
 "metadata": {
  "kernelspec": {
   "display_name": "Python 3",
   "language": "python",
   "name": "python3"
  },
  "language_info": {
   "codemirror_mode": {
    "name": "ipython",
    "version": 2
   },
   "file_extension": ".py",
   "mimetype": "text/x-python",
   "name": "python",
   "nbconvert_exporter": "python",
   "pygments_lexer": "ipython2",
   "version": "2.7.6"
  }
 },
 "nbformat": 4,
 "nbformat_minor": 0
}