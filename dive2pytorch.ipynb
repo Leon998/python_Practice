{
 "cells": [
  {
   "cell_type": "code",
   "execution_count": 26,
   "metadata": {
    "collapsed": true,
    "pycharm": {
     "name": "#%%\n"
    }
   },
   "outputs": [],
   "source": [
    "import torch\n",
    "from torch.utils.data import Dataset, DataLoader\n",
    "import numpy as np"
   ]
  },
  {
   "cell_type": "code",
   "execution_count": 33,
   "outputs": [],
   "source": [
    "a = np.linspace(0,100)"
   ],
   "metadata": {
    "collapsed": false,
    "pycharm": {
     "name": "#%%\n"
    }
   }
  },
  {
   "cell_type": "code",
   "execution_count": 34,
   "outputs": [
    {
     "data": {
      "text/plain": "array([  0.        ,   2.04081633,   4.08163265,   6.12244898,\n         8.16326531,  10.20408163,  12.24489796,  14.28571429,\n        16.32653061,  18.36734694,  20.40816327,  22.44897959,\n        24.48979592,  26.53061224,  28.57142857,  30.6122449 ,\n        32.65306122,  34.69387755,  36.73469388,  38.7755102 ,\n        40.81632653,  42.85714286,  44.89795918,  46.93877551,\n        48.97959184,  51.02040816,  53.06122449,  55.10204082,\n        57.14285714,  59.18367347,  61.2244898 ,  63.26530612,\n        65.30612245,  67.34693878,  69.3877551 ,  71.42857143,\n        73.46938776,  75.51020408,  77.55102041,  79.59183673,\n        81.63265306,  83.67346939,  85.71428571,  87.75510204,\n        89.79591837,  91.83673469,  93.87755102,  95.91836735,\n        97.95918367, 100.        ])"
     },
     "execution_count": 34,
     "metadata": {},
     "output_type": "execute_result"
    }
   ],
   "source": [
    "a"
   ],
   "metadata": {
    "collapsed": false,
    "pycharm": {
     "name": "#%%\n"
    }
   }
  },
  {
   "cell_type": "code",
   "execution_count": 35,
   "outputs": [
    {
     "data": {
      "text/plain": "20.408163265306122"
     },
     "execution_count": 35,
     "metadata": {},
     "output_type": "execute_result"
    }
   ],
   "source": [
    "a[10]"
   ],
   "metadata": {
    "collapsed": false,
    "pycharm": {
     "name": "#%%\n"
    }
   }
  },
  {
   "cell_type": "code",
   "execution_count": null,
   "outputs": [],
   "source": [],
   "metadata": {
    "collapsed": false,
    "pycharm": {
     "name": "#%%\n"
    }
   }
  }
 ],
 "metadata": {
  "kernelspec": {
   "display_name": "Python 3",
   "language": "python",
   "name": "python3"
  },
  "language_info": {
   "codemirror_mode": {
    "name": "ipython",
    "version": 2
   },
   "file_extension": ".py",
   "mimetype": "text/x-python",
   "name": "python",
   "nbconvert_exporter": "python",
   "pygments_lexer": "ipython2",
   "version": "2.7.6"
  }
 },
 "nbformat": 4,
 "nbformat_minor": 0
}